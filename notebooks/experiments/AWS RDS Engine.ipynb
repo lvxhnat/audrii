{
 "cells": [
  {
   "cell_type": "code",
   "execution_count": 1,
   "id": "731f35ce-d96c-4c9a-bfa7-d00b2f0406dc",
   "metadata": {},
   "outputs": [],
   "source": [
    "%load_ext autoreload\n",
    "%autoreload 2"
   ]
  },
  {
   "cell_type": "code",
   "execution_count": 59,
   "id": "a7bbfd1d-02dc-471d-9e89-1398842a1cb8",
   "metadata": {},
   "outputs": [],
   "source": [
    "from importlib import reload\n",
    "from api.gcp import connect_cloud\n",
    "import pandas as pd\n",
    "import pymysql\n",
    "from sqlalchemy.orm import sessionmaker\n",
    "from sqlalchemy import Table, Column, MetaData, Integer, String, ForeignKey, Float, create_engine, insert,BigInteger\n",
    "cloud_utility = connect_cloud.CloudUtility()"
   ]
  },
  {
   "cell_type": "code",
   "execution_count": 3,
   "id": "18864b18-7f3e-4545-b92a-390ee3a9198f",
   "metadata": {},
   "outputs": [],
   "source": [
    "port = \"5432\"\n",
    "username = \n",
    "password = \n",
    "host = \n",
    "database = \"postgres\"\n",
    "\n",
    "engine = create_engine(f\"postgresql+pg8000://{username}:{password}@{host}:{port}/{database}\", echo=True)\n",
    "session = sessionmaker(bind=engine)"
   ]
  },
  {
   "cell_type": "code",
   "execution_count": 63,
   "id": "6b1de74d-ef87-427b-a464-3cecbc0bdf84",
   "metadata": {},
   "outputs": [],
   "source": [
    "e = engine.connect()"
   ]
  },
  {
   "cell_type": "code",
   "execution_count": null,
   "id": "37580f60-f5aa-448c-9523-cad032062750",
   "metadata": {},
   "outputs": [],
   "source": [
    "metadata_obj = MetaData()\n",
    "\n",
    "table = Table('historical_ticker_data', metadata_obj,\n",
    "    Column('symbol', String, primary_key=True),\n",
    "    Column('time', BigInteger, primary_key=True),\n",
    "    Column('vol_weighted_price', Float),\n",
    "    Column('transacs', Integer),\n",
    "    Column('vol', Integer),\n",
    "    Column('open', Float),\n",
    "    Column('high', Float),\n",
    "    Column('low', Float),\n",
    "    Column('close', Float))\n",
    "\n",
    "metadata_obj.bind = engine\n",
    "metadata_obj.create_all(engine)"
   ]
  },
  {
   "cell_type": "code",
   "execution_count": 9,
   "id": "74bc2f4e-0262-4ad9-88e1-234240b98202",
   "metadata": {},
   "outputs": [],
   "source": [
    "df = cloud_utility.read_file_from_gcs(\"tickers/historical_ticks_5\", num_workers=50)"
   ]
  },
  {
   "cell_type": "code",
   "execution_count": 36,
   "id": "f7e0aa56-649c-495d-9e65-5e3f2a9bbf9c",
   "metadata": {},
   "outputs": [],
   "source": [
    "df = df.fillna(0)"
   ]
  },
  {
   "cell_type": "code",
   "execution_count": 38,
   "id": "b9460986-7c82-47e2-967a-a2ea15f368b8",
   "metadata": {},
   "outputs": [],
   "source": [
    "df.v = df.v.astype(int)\n",
    "df.n = df.n.astype(int)\n",
    "df.t = df.t.astype(int)\n",
    "df.vw = df.vw.astype(float)\n",
    "df.o = df.o.astype(float)\n",
    "df.h = df.h.astype(float)\n",
    "df.l = df.l.astype(float)\n",
    "df.c = df.c.astype(float)\n",
    "df.symbol = df.symbol.astype(str)"
   ]
  },
  {
   "cell_type": "code",
   "execution_count": 40,
   "id": "386d9ed9-32f9-4b17-bbfd-deafd7b95ff4",
   "metadata": {},
   "outputs": [],
   "source": [
    "df_list = np.array_split(df, 50)"
   ]
  },
  {
   "cell_type": "code",
   "execution_count": 43,
   "id": "6e7f842b-296e-4281-921e-a0d8dde1212f",
   "metadata": {},
   "outputs": [],
   "source": [
    "df_entries = []\n",
    "\n",
    "for chunk in df_list: \n",
    "    df_entries.append([{'symbol': row.symbol, \n",
    "          'time': row.t, \n",
    "          'vol_weighted_price': row.vw,\n",
    "          'transacs': row.n,\n",
    "          'vol': row.v,\n",
    "          'o': row.o,\n",
    "          'h': row.h,\n",
    "          'l': row.l,\n",
    "          'c': row.c,\n",
    "        } for row in chunk.itertuples()])"
   ]
  },
  {
   "cell_type": "raw",
   "id": "7bc4faf2-a431-43df-81d7-e0503233b47d",
   "metadata": {},
   "source": [
    "from tqdm import tqdm\n",
    "\n",
    "s = time.time()\n",
    "for i, entries in enumerate(df_entries):\n",
    "    e.execute(table.insert(), entries)\n",
    "    e = time.time() - s\n",
    "    print(f\"Written chunk {i} in {s}s\")"
   ]
  },
  {
   "cell_type": "code",
   "execution_count": null,
   "id": "8edb78cd-0298-4a17-a81b-1c3e79eaefdd",
   "metadata": {},
   "outputs": [],
   "source": [
    "t = e.execute(\"SELECT * FROM historical_ticker_data\")"
   ]
  }
 ],
 "metadata": {
  "kernelspec": {
   "display_name": "Kedro (audrii)",
   "language": "python",
   "name": "kedro_audrii"
  },
  "language_info": {
   "codemirror_mode": {
    "name": "ipython",
    "version": 3
   },
   "file_extension": ".py",
   "mimetype": "text/x-python",
   "name": "python",
   "nbconvert_exporter": "python",
   "pygments_lexer": "ipython3",
   "version": "3.7.3"
  }
 },
 "nbformat": 4,
 "nbformat_minor": 5
}

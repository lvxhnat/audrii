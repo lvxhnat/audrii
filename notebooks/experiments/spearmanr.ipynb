{
 "cells": [
  {
   "cell_type": "code",
   "execution_count": 6,
   "id": "6d22ce2b-de90-40e6-ab23-f89f8d1be839",
   "metadata": {},
   "outputs": [],
   "source": [
    "import numpy as np\n",
    "import pandas as pd\n",
    "from scipy import stats"
   ]
  },
  {
   "cell_type": "code",
   "execution_count": 17,
   "id": "4f315492-fb40-498a-8e19-6cfd57bdfd49",
   "metadata": {},
   "outputs": [],
   "source": [
    "a = np.random.random(9600) * 10 + 50\n",
    "b = np.random.random(9600) * 10 + 100\n",
    "\n",
    "test_df = pd.DataFrame({\"a\": a, \"b\": b})"
   ]
  },
  {
   "cell_type": "code",
   "execution_count": 93,
   "id": "b6c5191e-9152-48bb-bbab-1329c7340b7e",
   "metadata": {},
   "outputs": [
    {
     "name": "stdout",
     "output_type": "stream",
     "text": [
      "0.005440509187180005\n",
      "0.005440509187180005\n",
      "0.005440509187180005\n",
      "0.005440509187180005\n"
     ]
    }
   ],
   "source": [
    "print(np.corrcoef(test_df.a.rank(), test_df.b.rank())[0][1])\n",
    "print(test_df.a.corr(test_df.b, method = \"spearman\"))\n",
    "print(stats.spearmanr(test_df.b,test_df.a).correlation)\n",
    "print(corr2_coeff(rank(test_df.a), rank(test_df.b)))"
   ]
  },
  {
   "cell_type": "code",
   "execution_count": 59,
   "id": "c048e7d9-c8f3-458e-8084-4cba0625b969",
   "metadata": {},
   "outputs": [
    {
     "name": "stdout",
     "output_type": "stream",
     "text": [
      "3.42 ms ± 63.5 µs per loop (mean ± std. dev. of 7 runs, 100 loops each)\n"
     ]
    }
   ],
   "source": [
    "%%timeit\n",
    "np.corrcoef(test_df.a.rank(), test_df.b.rank())[0][1]"
   ]
  },
  {
   "cell_type": "code",
   "execution_count": 60,
   "id": "78f87726-9d8f-401c-9338-74659327012f",
   "metadata": {},
   "outputs": [
    {
     "name": "stdout",
     "output_type": "stream",
     "text": [
      "3.33 ms ± 86 µs per loop (mean ± std. dev. of 7 runs, 100 loops each)\n"
     ]
    }
   ],
   "source": [
    "%%timeit\n",
    "test_df.a.corr(test_df.b, method = \"spearman\")"
   ]
  },
  {
   "cell_type": "code",
   "execution_count": 61,
   "id": "7adcc4a5-3bf9-44d0-a1cf-68121e16baf1",
   "metadata": {},
   "outputs": [
    {
     "name": "stdout",
     "output_type": "stream",
     "text": [
      "3.19 ms ± 72.1 µs per loop (mean ± std. dev. of 7 runs, 100 loops each)\n"
     ]
    }
   ],
   "source": [
    "%%timeit\n",
    "stats.spearmanr(test_df.b,test_df.a).correlation"
   ]
  },
  {
   "cell_type": "code",
   "execution_count": 94,
   "id": "b4c99aba-2a2f-4f20-b401-f1810e3fae1d",
   "metadata": {},
   "outputs": [
    {
     "name": "stdout",
     "output_type": "stream",
     "text": [
      "4.35 ms ± 170 µs per loop (mean ± std. dev. of 7 runs, 100 loops each)\n"
     ]
    }
   ],
   "source": [
    "%%timeit\n",
    "corr2_coeff(rank(test_df.a), rank(test_df.b))"
   ]
  },
  {
   "cell_type": "code",
   "execution_count": 87,
   "id": "2c560765-e3f9-444e-a79a-05abced60f10",
   "metadata": {},
   "outputs": [],
   "source": [
    "def corr2_coeff(A, B):\n",
    "    \n",
    "    # Rowwise mean of input arrays & subtract from input arrays themeselves\n",
    "    A_mA = A - A.mean()\n",
    "    B_mB = B - B.mean()\n",
    "\n",
    "    # Sum of squares across rows\n",
    "    ssA = (A_mA**2).sum()\n",
    "    ssB = (B_mB**2).sum()\n",
    "\n",
    "    # Finally get corr coeff\n",
    "    return np.dot(A_mA, B_mB.T) / np.sqrt(np.dot(ssA,ssB))\n",
    "\n",
    "def rank(array):\n",
    "    \n",
    "    if not isinstance(array, np.ndarray):\n",
    "        array = np.fromiter(array, dtype = np.float64)\n",
    "        \n",
    "    temp = array.argsort()\n",
    "    ranks = np.empty_like(temp)\n",
    "    ranks[temp] = np.arange(len(array))\n",
    "    \n",
    "    return ranks"
   ]
  }
 ],
 "metadata": {
  "kernelspec": {
   "display_name": "Kedro (audrii)",
   "language": "python",
   "name": "kedro_audrii"
  },
  "language_info": {
   "codemirror_mode": {
    "name": "ipython",
    "version": 3
   },
   "file_extension": ".py",
   "mimetype": "text/x-python",
   "name": "python",
   "nbconvert_exporter": "python",
   "pygments_lexer": "ipython3",
   "version": "3.7.3"
  }
 },
 "nbformat": 4,
 "nbformat_minor": 5
}

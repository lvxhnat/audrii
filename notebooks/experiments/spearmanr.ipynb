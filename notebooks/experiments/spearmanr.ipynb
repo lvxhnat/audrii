{
 "cells": [
  {
   "cell_type": "code",
   "execution_count": 1,
   "id": "6d22ce2b-de90-40e6-ab23-f89f8d1be839",
   "metadata": {},
   "outputs": [],
   "source": [
    "import numpy as np\n",
    "import pandas as pd\n",
    "from scipy import stats"
   ]
  },
  {
   "cell_type": "code",
   "execution_count": 116,
   "id": "4f315492-fb40-498a-8e19-6cfd57bdfd49",
   "metadata": {},
   "outputs": [],
   "source": [
    "a = np.random.random(9600) * 10 + 50\n",
    "b = np.random.random(9600) * 10 + 100\n",
    "\n",
    "test_df = pd.DataFrame({\"a\": a, \"b\": b})\n",
    "\n",
    "\n",
    "\n",
    "\n",
    "def rank(array):\n",
    "    \n",
    "    if not isinstance(array, np.ndarray):\n",
    "        array = np.fromiter(array, dtype = np.float64)\n",
    "        \n",
    "    temp = array.argsort()\n",
    "    ranks = np.empty_like(temp)\n",
    "    ranks[temp] = np.arange(len(array))\n",
    "    \n",
    "    return ranks"
   ]
  },
  {
   "cell_type": "code",
   "execution_count": 202,
   "id": "b6c5191e-9152-48bb-bbab-1329c7340b7e",
   "metadata": {},
   "outputs": [
    {
     "name": "stdout",
     "output_type": "stream",
     "text": [
      "0.02180323263132848\n",
      "0.02180323263132848\n",
      "0.02180323263132848\n"
     ]
    }
   ],
   "source": [
    "print(np.corrcoef(test_df.a.rank(), test_df.b.rank())[0][1])\n",
    "print(test_df.a.corr(test_df.b, method = \"spearman\"))\n",
    "print(stats.spearmanr(test_df.b,test_df.a).correlation)"
   ]
  },
  {
   "cell_type": "code",
   "execution_count": 209,
   "id": "33ad8889-08c4-4106-8b62-ee96b6196d6c",
   "metadata": {},
   "outputs": [
    {
     "name": "stdout",
     "output_type": "stream",
     "text": [
      "The autoreload extension is already loaded. To reload it, use:\n",
      "  %reload_ext autoreload\n"
     ]
    }
   ],
   "source": [
    "%load_ext autoreload\n",
    "%autoreload 2"
   ]
  },
  {
   "cell_type": "code",
   "execution_count": 288,
   "id": "4ac6eaf0-c463-4ff6-b1b8-e7b2dcc2c0f2",
   "metadata": {},
   "outputs": [],
   "source": [
    "from utilities import rank\n",
    "from correlations import spearman_corr_matrix\n",
    "from expected_returns import annualised_daily_mean_returns"
   ]
  },
  {
   "cell_type": "code",
   "execution_count": 291,
   "id": "126c20c7-8725-4da3-8e7f-caac7ce6b3b7",
   "metadata": {},
   "outputs": [
    {
     "data": {
      "text/plain": [
       "-1.228928729303643"
      ]
     },
     "execution_count": 291,
     "metadata": {},
     "output_type": "execute_result"
    }
   ],
   "source": [
    "annualised_daily_mean_returns(test_df.a.to_numpy(), 365)"
   ]
  },
  {
   "cell_type": "code",
   "execution_count": null,
   "id": "ebb7ebd4-c4ca-4c79-b5ab-d14f14f233f6",
   "metadata": {},
   "outputs": [],
   "source": []
  }
 ],
 "metadata": {
  "kernelspec": {
   "display_name": "Kedro (audrii)",
   "language": "python",
   "name": "kedro_audrii"
  },
  "language_info": {
   "codemirror_mode": {
    "name": "ipython",
    "version": 3
   },
   "file_extension": ".py",
   "mimetype": "text/x-python",
   "name": "python",
   "nbconvert_exporter": "python",
   "pygments_lexer": "ipython3",
   "version": "3.7.3"
  }
 },
 "nbformat": 4,
 "nbformat_minor": 5
}

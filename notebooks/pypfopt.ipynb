{
 "cells": [
  {
   "cell_type": "markdown",
   "id": "cd8835ca-0521-41b7-9323-990434b26743",
   "metadata": {},
   "source": [
    "#### Import Modules"
   ]
  },
  {
   "cell_type": "code",
   "execution_count": 5,
   "id": "bd20ca64-ecda-411e-876c-c234b1d966ba",
   "metadata": {},
   "outputs": [],
   "source": [
    "%load_ext autoreload\n",
    "%autoreload 2"
   ]
  },
  {
   "cell_type": "code",
   "execution_count": 25,
   "id": "ae7066b1-d38b-4a74-b4a0-cd6618cc193e",
   "metadata": {},
   "outputs": [],
   "source": [
    "###### import os\n",
    "import pandas as pd\n",
    "from glob import glob \n",
    "from dotenv import load_dotenv\n",
    "import matplotlib.pyplot as plt\n",
    "environment_loaded = load_dotenv()"
   ]
  },
  {
   "cell_type": "markdown",
   "id": "bda7d961-267f-42fc-a5d0-9f05deaf6979",
   "metadata": {},
   "source": [
    "#### Instantiate dask optimisations"
   ]
  },
  {
   "cell_type": "code",
   "execution_count": 78,
   "id": "f4abf92b-acb4-45bb-ba40-8f5a2d270abb",
   "metadata": {},
   "outputs": [],
   "source": [
    "import itertools"
   ]
  },
  {
   "cell_type": "code",
   "execution_count": 60,
   "id": "31156801-b631-424c-bf7d-9a9de86caf84",
   "metadata": {},
   "outputs": [],
   "source": [
    "d = {\n",
    "    'GPS': \n",
    "        [{'_id': 1, 'action': 'Long', 'units': 20, 'date': '2022-02-03', 'price': 14.57, 'simulatedFee': 0}\n",
    "        ,{'_id': 2, 'action': 'Short', 'units': 20, 'date': '2022-04-04', 'price': 14.21, 'simulatedFee': 0}\n",
    "        ,{'_id': 3, 'action': 'Long', 'units': 25, 'date': '2022-06-13', 'price': 9.03, 'simulatedFee': 0.2}],\n",
    "    'IAU': \n",
    "        [{'_id': 1, 'action': 'Long', 'units': 10, 'date': '2022-03-02', 'price': 36.61, 'simulatedFee': 0}\n",
    "        ,{'_id': 2, 'action': 'Short', 'units': 10, 'date': '2022-03-08', 'price': 38.98, 'simulatedFee': 0}\n",
    "        ,{'_id': 3, 'action': 'Long', 'units': 5, 'date': '2022-03-15', 'price': 36.45, 'simulatedFee': 0.1}\n",
    "        ,{'_id': 4, 'action': 'Long', 'units': 5, 'date': '2022-04-13', 'price': 37.62, 'simulatedFee': 0.23}],\n",
    "    'M': \n",
    "        [{'_id': 1, 'action': 'Long', 'units': 55, 'date': '2022-05-24', 'price': 17.61, 'simulatedFee': 0}],\n",
    "    'NFLX': \n",
    "        [{'_id': 1, 'action': 'Long', 'units': 2, 'date': '2022-01-19', 'price': 515.86, 'simulatedFee': 0}],\n",
    "    'STNG': \n",
    "        [{'_id': 1, 'action': 'Long', 'units': 50, 'date': '2022-04-24', 'price': 20.60, 'simulatedFee': 0.26}\n",
    "        ,{'_id': 2, 'action': 'Long', 'units': 20, 'date': '2022-05-13', 'price': 28.35, 'simulatedFee': 0.29}\n",
    "        ,{'_id': 3, 'action': 'Short', 'units': 45, 'date': '2022-05-24', 'price': 30.46, 'simulatedFee': 0.31}\n",
    "        ,{'_id': 4, 'action': 'Long', 'units': 20, 'date': '2022-06-02', 'price': 35.19, 'simulatedFee': 0.35}]\n",
    "}"
   ]
  },
  {
   "cell_type": "code",
   "execution_count": 83,
   "id": "ac60dae9-0f55-405f-bf00-e96d80accfd1",
   "metadata": {},
   "outputs": [
    {
     "name": "stdout",
     "output_type": "stream",
     "text": [
      "3.16 µs ± 48.3 ns per loop (mean ± std. dev. of 7 runs, 100000 loops each)\n"
     ]
    }
   ],
   "source": [
    "%%timeit\n",
    "cd = []\n",
    "for k, v in d.items():\n",
    "    cd += [[k] * len(v)]\n",
    "\n",
    "tickers = [*itertools.chain.from_iterable(cd)]\n",
    "holdings = [*itertools.chain.from_iterable(d.values())]"
   ]
  },
  {
   "cell_type": "code",
   "execution_count": 100,
   "id": "edde9bea-27c0-473a-ba46-79a5b4746e91",
   "metadata": {},
   "outputs": [
    {
     "name": "stdout",
     "output_type": "stream",
     "text": [
      "1.99 ms ± 165 µs per loop (mean ± std. dev. of 7 runs, 100 loops each)\n"
     ]
    }
   ],
   "source": [
    "%%timeit\n",
    "pd.DataFrame(holdings, index = tickers).sort_values(\"date\").reset_index()"
   ]
  },
  {
   "cell_type": "code",
   "execution_count": 101,
   "id": "36d9507f-765a-46b1-98ee-2e264046eb16",
   "metadata": {},
   "outputs": [
    {
     "name": "stdout",
     "output_type": "stream",
     "text": [
      "1.31 ms ± 23.7 µs per loop (mean ± std. dev. of 7 runs, 1000 loops each)\n"
     ]
    }
   ],
   "source": [
    "%%timeit\n",
    "pd.DataFrame(holdings, index = tickers).sort_values(\"date\")"
   ]
  },
  {
   "cell_type": "code",
   "execution_count": 105,
   "id": "f45bf4bf-72f4-417f-bef4-5d1a78705ebb",
   "metadata": {},
   "outputs": [
    {
     "name": "stdout",
     "output_type": "stream",
     "text": [
      "3.41 µs ± 17.4 ns per loop (mean ± std. dev. of 7 runs, 100000 loops each)\n"
     ]
    }
   ],
   "source": [
    "%%timeit\n",
    "sorted(zip(holdings, tickers), key=lambda d: d[0]['date']) "
   ]
  },
  {
   "cell_type": "markdown",
   "id": "bdf262c0-bbe4-47f9-be84-cb3258956bf6",
   "metadata": {},
   "source": [
    "#### Initiate mulithreading "
   ]
  },
  {
   "cell_type": "code",
   "execution_count": 3,
   "id": "4d6a7493-6130-4a0b-bf50-1506d17f52c7",
   "metadata": {},
   "outputs": [],
   "source": [
    "from typing import Callable, Dict, Any, List\n",
    "from api.gcp.connect_cloud import CloudUtility\n",
    "from concurrent.futures import ThreadPoolExecutor"
   ]
  },
  {
   "cell_type": "code",
   "execution_count": 4,
   "id": "0e6e0f49-1fb5-4474-a4f4-d1e2b0ad6bda",
   "metadata": {},
   "outputs": [],
   "source": [
    "cloud_util = CloudUtility()"
   ]
  },
  {
   "cell_type": "code",
   "execution_count": 6,
   "id": "d132394e-5f0c-44b4-92a4-4d876f437631",
   "metadata": {},
   "outputs": [],
   "source": [
    "from experiments.parallelizers import parallelize_factory\n",
    "ticker_data = cloud_util.read_file_from_gcs(\"tickers/historical_ticks_5/\")"
   ]
  },
  {
   "cell_type": "markdown",
   "id": "f27a3d4a-c18f-4863-af33-8903ebadc1f2",
   "metadata": {},
   "source": [
    "### Static Analysis"
   ]
  },
  {
   "cell_type": "markdown",
   "id": "625c0f99-86f2-467f-ba49-cef8e93f99fa",
   "metadata": {},
   "source": [
    "#### Instantiate sample data"
   ]
  },
  {
   "cell_type": "code",
   "execution_count": 26,
   "id": "946af2a9-1212-4358-9ed3-34962b4e9da5",
   "metadata": {},
   "outputs": [],
   "source": [
    "s = {\n",
    "    'GPS': \n",
    "        [{'_id': 1, 'action': 'Long', 'units': 20, 'date': '', 'price': 14.57, 'simulatedFee': 0}],\n",
    "    'IAU': \n",
    "        [{'_id': 1, 'action': 'Long', 'units': 10, 'date': '', 'price': 36.61, 'simulatedFee': 0}],\n",
    "    'M': \n",
    "        [{'_id': 1, 'action': 'Long', 'units': 55, 'date': '', 'price': 17.61, 'simulatedFee': 0}],\n",
    "    'NFLX': \n",
    "        [{'_id': 1, 'action': 'Long', 'units': 2, 'date': '', 'price': 515.86, 'simulatedFee': 0}],\n",
    "    'STNG': \n",
    "        [{'_id': 1, 'action': 'Long', 'units': 50, 'date': '', 'price': 20.60, 'simulatedFee': 0.26}]\n",
    "}"
   ]
  },
  {
   "cell_type": "code",
   "execution_count": 27,
   "id": "e065425f-9cf5-4ae8-bcbe-f687605f8af8",
   "metadata": {},
   "outputs": [],
   "source": [
    "data = {\n",
    "    'GPS': np.random.random(9600) * 10 + 50,\n",
    "    'IAU': np.random.random(9600) * 10 + 15,\n",
    "    'M': np.random.random(9600) * 10 + 10,\n",
    "    'NFLX': np.random.random(9600) * 10 + 200,\n",
    "    'STNG': np.random.random(9600) * 10 + 20,\n",
    "}\n",
    "units = np.fromiter([*map(lambda x: x[0]['units'],[*s.values()])], dtype = float)"
   ]
  },
  {
   "cell_type": "markdown",
   "id": "f2b391c3-9ca2-4596-a457-e58aa9e5007b",
   "metadata": {
    "tags": []
   },
   "source": [
    "##### Get Portfolio Value over time"
   ]
  },
  {
   "cell_type": "code",
   "execution_count": 37,
   "id": "a7c413b7-f177-4f68-8a88-1697343c6680",
   "metadata": {},
   "outputs": [
    {
     "data": {
      "text/plain": [
       "array([3920.9433998 , 3844.9954384 , 3771.47127365, ..., 3746.77136326,\n",
       "       3395.43195632, 3517.15751896])"
      ]
     },
     "execution_count": 37,
     "metadata": {},
     "output_type": "execute_result"
    }
   ],
   "source": [
    "ts_arr = np.array([*data.values()])\n",
    "pf_raw_value_ot = ts_arr.T.dot(units)\n",
    "pf_raw_value_ot"
   ]
  },
  {
   "cell_type": "markdown",
   "id": "58980f75-3c20-4c86-8176-e6dc11637b74",
   "metadata": {},
   "source": [
    "#### Alternative Indicators"
   ]
  },
  {
   "cell_type": "markdown",
   "id": "77de7a31-98b0-4797-90d5-26d6f6b95bbc",
   "metadata": {},
   "source": [
    "##### Get Correlation Matrix of tickers"
   ]
  },
  {
   "cell_type": "code",
   "execution_count": 42,
   "id": "6bbf86fa-2749-45bd-860b-637ee4cc1638",
   "metadata": {},
   "outputs": [
    {
     "data": {
      "text/plain": [
       "array([[ 1.00000000e+00, -1.08769099e-02,  4.12434206e-03,\n",
       "         8.23005011e-03,  9.66479844e-03],\n",
       "       [-1.08769099e-02,  1.00000000e+00, -8.19873250e-03,\n",
       "        -2.03547801e-02,  4.64328224e-03],\n",
       "       [ 4.12434206e-03, -8.19873250e-03,  1.00000000e+00,\n",
       "        -1.02580297e-02,  9.56054671e-04],\n",
       "       [ 8.23005011e-03, -2.03547801e-02, -1.02580297e-02,\n",
       "         1.00000000e+00, -1.14179070e-02],\n",
       "       [ 9.66479844e-03,  4.64328224e-03,  9.56054671e-04,\n",
       "        -1.14179070e-02,  1.00000000e+00]])"
      ]
     },
     "execution_count": 42,
     "metadata": {},
     "output_type": "execute_result"
    }
   ],
   "source": [
    "from experiments.correlations import spearman_corr_matrix, rolling_spearman_corr\n",
    "spearman_corr_matrix(ts_arr)"
   ]
  },
  {
   "cell_type": "markdown",
   "id": "2044836f-06f7-4c79-bc67-7b52e29228a2",
   "metadata": {},
   "source": [
    "##### Get Market Correlation over time"
   ]
  },
  {
   "cell_type": "code",
   "execution_count": 59,
   "id": "8a3b27d3-d51b-4909-8f3c-423d2c7ca604",
   "metadata": {},
   "outputs": [
    {
     "data": {
      "text/plain": [
       "array([        nan,         nan,         nan, ...,  0.0831965 ,\n",
       "       -0.01258894, -0.03174603])"
      ]
     },
     "execution_count": 59,
     "metadata": {},
     "output_type": "execute_result"
    }
   ],
   "source": [
    "market_values = np.random.random(9600) * 10 * 300\n",
    "rolling_spearman_corr(market_values, pf_raw_value_ot, window = 28)"
   ]
  },
  {
   "cell_type": "markdown",
   "id": "52dbfbd9-1b15-44cd-a7e0-f0bb33aa7fbc",
   "metadata": {},
   "source": [
    "### Dynamic Portfolio Metrics"
   ]
  },
  {
   "cell_type": "code",
   "execution_count": null,
   "id": "323fbce0-1524-41f1-b605-300e731c391b",
   "metadata": {},
   "outputs": [],
   "source": [
    "from typing import Iterable\n",
    "\n",
    "def days_open(date_series: Iterable) -> np.uint16:\n",
    "    return np.uint16((date_series.max() - date_series.min()).days)\n",
    "\n",
    "def turnover_rate(date_series: Iterable) -> np.float64:\n",
    "    date_series = np.fromiter(date_series, dtype='datetime64[D]')\n",
    "    days_traded = days_open(date_series)\n",
    "    return np.round(date_series.size / days_traded, 4)"
   ]
  }
 ],
 "metadata": {
  "kernelspec": {
   "display_name": "Kedro (audrii)",
   "language": "python",
   "name": "kedro_audrii"
  },
  "language_info": {
   "codemirror_mode": {
    "name": "ipython",
    "version": 3
   },
   "file_extension": ".py",
   "mimetype": "text/x-python",
   "name": "python",
   "nbconvert_exporter": "python",
   "pygments_lexer": "ipython3",
   "version": "3.7.3"
  }
 },
 "nbformat": 4,
 "nbformat_minor": 5
}

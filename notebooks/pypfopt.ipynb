{
 "cells": [
  {
   "cell_type": "markdown",
   "id": "cd8835ca-0521-41b7-9323-990434b26743",
   "metadata": {},
   "source": [
    "#### Import Modules"
   ]
  },
  {
   "cell_type": "code",
   "execution_count": 1,
   "id": "bd20ca64-ecda-411e-876c-c234b1d966ba",
   "metadata": {},
   "outputs": [],
   "source": [
    "%load_ext autoreload\n",
    "%autoreload 2"
   ]
  },
  {
   "cell_type": "code",
   "execution_count": 2,
   "id": "ae7066b1-d38b-4a74-b4a0-cd6618cc193e",
   "metadata": {},
   "outputs": [],
   "source": [
    "###### import os\n",
    "import pandas as pd\n",
    "from glob import glob \n",
    "from dotenv import load_dotenv\n",
    "environment_loaded = load_dotenv()"
   ]
  },
  {
   "cell_type": "markdown",
   "id": "bda7d961-267f-42fc-a5d0-9f05deaf6979",
   "metadata": {},
   "source": [
    "#### Instantiate dask optimisations"
   ]
  },
  {
   "cell_type": "code",
   "execution_count": null,
   "id": "31156801-b631-424c-bf7d-9a9de86caf84",
   "metadata": {},
   "outputs": [],
   "source": [
    "d = {\n",
    "    'GPS': \n",
    "        [{'_id': 1, 'action': 'Long', 'units': 20, 'date': '2022-02-03', 'price': 14.57, 'simulatedFee': 0}\n",
    "        ,{'_id': 2, 'action': 'Short', 'units': 20, 'date': '2022-04-04', 'price': 14.21, 'simulatedFee': 0}\n",
    "        ,{'_id': 3, 'action': 'Long', 'units': 25, 'date': '2022-06-13', 'price': 9.03, 'simulatedFee': 0.2}],\n",
    "    'IAU': \n",
    "        [{'_id': 1, 'action': 'Long', 'units': 10, 'date': '2022-03-02', 'price': 36.61, 'simulatedFee': 0}\n",
    "        ,{'_id': 2, 'action': 'Short', 'units': 10, 'date': '2022-03-08', 'price': 38.98, 'simulatedFee': 0}\n",
    "        ,{'_id': 3, 'action': 'Long', 'units': 5, 'date': '2022-03-15', 'price': 36.45, 'simulatedFee': 0.1}\n",
    "        ,{'_id': 4, 'action': 'Long', 'units': 5, 'date': '2022-04-13', 'price': 37.62, 'simulatedFee': 0.23}],\n",
    "    'M': \n",
    "        [{'_id': 1, 'action': 'Long', 'units': 55, 'date': '2022-05-24', 'price': 17.61, 'simulatedFee': 0}],\n",
    "    'NFLX': \n",
    "        [{'_id': 1, 'action': 'Long', 'units': 2, 'date': '2022-01-19', 'price': 515.86, 'simulatedFee': 0}],\n",
    "    'STNG': \n",
    "        [{'_id': 1, 'action': 'Long', 'units': 50, 'date': '2022-04-24', 'price': 20.60, 'simulatedFee': 0.26}\n",
    "        ,{'_id': 2, 'action': 'Long', 'units': 20, 'date': '2022-05-13', 'price': 28.35, 'simulatedFee': 0.29}\n",
    "        ,{'_id': 3, 'action': 'Short', 'units': 45, 'date': '2022-05-24', 'price': 30.46, 'simulatedFee': 0.31}\n",
    "        ,{'_id': 4, 'action': 'Long', 'units': 20, 'date': '2022-06-02', 'price': 35.19, 'simulatedFee': 0.35}]\n",
    "}"
   ]
  },
  {
   "cell_type": "markdown",
   "id": "bdf262c0-bbe4-47f9-be84-cb3258956bf6",
   "metadata": {},
   "source": [
    "#### Initiate mulithreading "
   ]
  },
  {
   "cell_type": "code",
   "execution_count": 228,
   "id": "4d6a7493-6130-4a0b-bf50-1506d17f52c7",
   "metadata": {},
   "outputs": [],
   "source": [
    "from typing import Callable, Dict, Any\n",
    "from api.gcp.connect_cloud import CloudUtility\n",
    "from concurrent.futures import ThreadPoolExecutor"
   ]
  },
  {
   "cell_type": "code",
   "execution_count": 229,
   "id": "0e6e0f49-1fb5-4474-a4f4-d1e2b0ad6bda",
   "metadata": {},
   "outputs": [],
   "source": [
    "cloud_util = CloudUtility()"
   ]
  },
  {
   "cell_type": "code",
   "execution_count": 262,
   "id": "bd950e86-3eef-423b-b946-979e39b78d14",
   "metadata": {},
   "outputs": [
    {
     "data": {
      "text/plain": [
       "dict"
      ]
     },
     "execution_count": 262,
     "metadata": {},
     "output_type": "execute_result"
    }
   ],
   "source": [
    "{}"
   ]
  },
  {
   "cell_type": "code",
   "execution_count": 263,
   "id": "7916093c-ccae-48e7-aa6b-0febe83e19ff",
   "metadata": {},
   "outputs": [
    {
     "data": {
      "text/plain": [
       "True"
      ]
     },
     "execution_count": 263,
     "metadata": {},
     "output_type": "execute_result"
    }
   ],
   "source": [
    "isinstance([], list)"
   ]
  },
  {
   "cell_type": "code",
   "execution_count": 230,
   "id": "e79b0ece-592f-4bc9-9b65-d940f7ebcfd7",
   "metadata": {},
   "outputs": [],
   "source": [
    "def parallelize_factory(\n",
    "    f: Callable, \n",
    "    iterables_params: Dict[str, Any],\n",
    "    constants_params: Dict[str, Any] = None):\n",
    "    \n",
    "    data = []\n",
    "    assert_accumulator = None\n",
    "    \n",
    "    \n",
    "    if not isinstance(iterables_params, dict):\n",
    "        raise ValueError(f\"Please ensure that iterables_params are of type Dict[str, Any]. You entered type {type(iterables_params)}.\")\n",
    "        \n",
    "    if not isinstance(constants_params, dict) and constants_params is not None:\n",
    "        raise ValueError(f\"Please ensure that constants_params are of type Dict[str, Any]. You entered type {type(constants_params)}.\")\n",
    "    \n",
    "    for key, value in iterables_params.items(): \n",
    "        \n",
    "        if assert_accumulator is not None: \n",
    "            if len(value) == assert_accumulator:\n",
    "                raise ValueError(f\"Please ensure values in list are of similar length.\")\n",
    "        \n",
    "        if not isinstance(value, list):\n",
    "            raise ValueError(f\"Please ensure that values of iterables params are of type {list.__name__}. You passed a value of type {type(value)}\")\n",
    "            \n",
    "        assert_accumulator = value\n",
    "        \n",
    "    if constants_params is not None:\n",
    "        worker_job = partial(f, constant_params = constants_params)\n",
    "    else: \n",
    "        worker_job = f\n",
    "    \n",
    "    with ThreadPoolExecutor(max_workers = min(12, len(iterables_params))) as executor:\n",
    "\n",
    "        futures = []\n",
    "        \n",
    "        for worker_api_key_list, worker_parameter_list in zip(worker_api_keys, worker_parameters):\n",
    "            \n",
    "            job = executor.submit(\n",
    "                f,\n",
    "                **iterables_params\n",
    "            )\n",
    "\n",
    "            futures.append(job)\n",
    "\n",
    "    for future in as_completed(futures):\n",
    "        data.append(future.result())\n",
    "\n",
    "    return list(itertools.chain.from_iterable(data))"
   ]
  },
  {
   "cell_type": "code",
   "execution_count": 241,
   "id": "9f06c65a-fd08-4a28-a1ab-e2f20d949ba0",
   "metadata": {},
   "outputs": [
    {
     "name": "stdout",
     "output_type": "stream",
     "text": [
      "['semantic-ion/tickers/historical_ticks_5/AAPL_', 'semantic-ion/tickers/historical_ticks_5/GPS_']\n"
     ]
    },
    {
     "data": {
      "text/plain": [
       "[]"
      ]
     },
     "execution_count": 241,
     "metadata": {},
     "output_type": "execute_result"
    }
   ],
   "source": [
    "parallelize_factory(cloud_util.get_file_with_prefix_from_gcs, \n",
    "    {\"prefix\": [\"semantic-ion/tickers/historical_ticks_5/AAPL_\", \"semantic-ion/tickers/historical_ticks_5/GPS_\"]})"
   ]
  },
  {
   "cell_type": "markdown",
   "id": "f27a3d4a-c18f-4863-af33-8903ebadc1f2",
   "metadata": {},
   "source": [
    "### Static Analysis"
   ]
  },
  {
   "cell_type": "markdown",
   "id": "625c0f99-86f2-467f-ba49-cef8e93f99fa",
   "metadata": {},
   "source": [
    "#### Instantiate sample data"
   ]
  },
  {
   "cell_type": "code",
   "execution_count": null,
   "id": "946af2a9-1212-4358-9ed3-34962b4e9da5",
   "metadata": {},
   "outputs": [],
   "source": [
    "s = {\n",
    "    'GPS': \n",
    "        [{'_id': 1, 'action': 'Long', 'units': 20, 'date': '', 'price': 14.57, 'simulatedFee': 0}],\n",
    "    'IAU': \n",
    "        [{'_id': 1, 'action': 'Long', 'units': 10, 'date': '', 'price': 36.61, 'simulatedFee': 0}],\n",
    "    'M': \n",
    "        [{'_id': 1, 'action': 'Long', 'units': 55, 'date': '', 'price': 17.61, 'simulatedFee': 0}],\n",
    "    'NFLX': \n",
    "        [{'_id': 1, 'action': 'Long', 'units': 2, 'date': '', 'price': 515.86, 'simulatedFee': 0}],\n",
    "    'STNG': \n",
    "        [{'_id': 1, 'action': 'Long', 'units': 50, 'date': '', 'price': 20.60, 'simulatedFee': 0.26}]\n",
    "}"
   ]
  },
  {
   "cell_type": "code",
   "execution_count": 243,
   "id": "e065425f-9cf5-4ae8-bcbe-f687605f8af8",
   "metadata": {},
   "outputs": [],
   "source": [
    "data = {\n",
    "    'GPS': np.random.random(9600) * 10 + 50,\n",
    "    'NFLX': np.random.random(9600) * 10 + 200,\n",
    "    'M': np.random.random(9600) * 10 + 10,\n",
    "    'IAU': np.random.random(9600) * 10 + 15,\n",
    "    'STNG': np.random.random(9600) * 10 + 20,\n",
    "}\n",
    "\n",
    "weights = np.array([0.2, 0.1, 0.2, 0.3, 0.2])"
   ]
  },
  {
   "cell_type": "code",
   "execution_count": 135,
   "id": "a7c413b7-f177-4f68-8a88-1697343c6680",
   "metadata": {},
   "outputs": [],
   "source": [
    "ts_arr = np.array([*data.values()])\n",
    "pf_raw_value_ot = ts_arr.T.dot(weights)"
   ]
  },
  {
   "cell_type": "code",
   "execution_count": 165,
   "id": "833bcebe-3cec-4938-bbce-2643a984d270",
   "metadata": {},
   "outputs": [],
   "source": [
    "def pad_array(arr: np.ndarray, size: tuple):\n",
    "    \"\"\" Pad a 1D numpy array to match size requirements\n",
    "    \"\"\"\n",
    "    repad_size = size - arr.size\n",
    "    return np.pad(arr, (repad_size, ), mode = 'constant', constant_values = (np.nan,))[:-1]"
   ]
  },
  {
   "cell_type": "code",
   "execution_count": 167,
   "id": "884c6368-6b88-4258-875c-ebd83ab6b248",
   "metadata": {},
   "outputs": [],
   "source": [
    "def calculate_returns(\n",
    "    arr: np.ndarray,\n",
    "    ctype: str = \"log\"):\n",
    "    \"\"\" Calculate the returns given prices\n",
    "    Params\n",
    "    ----------\n",
    "    arr       : A one dimensional numpy array containing the closing prices of the asset \n",
    "    ctype     : The return calculation type. Available selections are: log, \n",
    "    \"\"\"\n",
    "    \n",
    "    assert arr.ndim == 1, \"Pass in only one dimensional np arrays\"\n",
    "    \n",
    "    if ctype == \"log\":\n",
    "        return pad_array(np.log(1 + np.diff(arr)/arr[1:]), arr.size)\n",
    "    else: \n",
    "        raise ValueError(\"Please enter a valid ctype: log\")"
   ]
  },
  {
   "cell_type": "markdown",
   "id": "52dbfbd9-1b15-44cd-a7e0-f0bb33aa7fbc",
   "metadata": {},
   "source": [
    "### Dynamic Portfolio Metrics"
   ]
  },
  {
   "cell_type": "code",
   "execution_count": null,
   "id": "323fbce0-1524-41f1-b605-300e731c391b",
   "metadata": {},
   "outputs": [],
   "source": [
    "from typing import Iterable\n",
    "\n",
    "def days_open(date_series: Iterable) -> np.uint16:\n",
    "    return np.uint16((date_series.max() - date_series.min()).days)\n",
    "\n",
    "def turnover_rate(date_series: Iterable) -> np.float64:\n",
    "    date_series = np.fromiter(date_series, dtype='datetime64[D]')\n",
    "    days_traded = days_open(date_series)\n",
    "    return np.round(date_series.size / days_traded, 4)"
   ]
  }
 ],
 "metadata": {
  "kernelspec": {
   "display_name": "Kedro (audrii)",
   "language": "python",
   "name": "kedro_audrii"
  },
  "language_info": {
   "codemirror_mode": {
    "name": "ipython",
    "version": 3
   },
   "file_extension": ".py",
   "mimetype": "text/x-python",
   "name": "python",
   "nbconvert_exporter": "python",
   "pygments_lexer": "ipython3",
   "version": "3.7.3"
  }
 },
 "nbformat": 4,
 "nbformat_minor": 5
}

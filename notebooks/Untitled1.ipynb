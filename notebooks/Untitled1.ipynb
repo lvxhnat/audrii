{
 "cells": [
  {
   "cell_type": "markdown",
   "id": "cd8835ca-0521-41b7-9323-990434b26743",
   "metadata": {},
   "source": [
    "#### Import Modules"
   ]
  },
  {
   "cell_type": "code",
   "execution_count": 1,
   "id": "bd20ca64-ecda-411e-876c-c234b1d966ba",
   "metadata": {},
   "outputs": [],
   "source": [
    "%load_ext autoreload\n",
    "%autoreload 2"
   ]
  },
  {
   "cell_type": "code",
   "execution_count": 2,
   "id": "ae7066b1-d38b-4a74-b4a0-cd6618cc193e",
   "metadata": {},
   "outputs": [],
   "source": [
    "###### import os\n",
    "import pandas as pd\n",
    "from glob import glob \n",
    "from dotenv import load_dotenv\n",
    "environment_loaded = load_dotenv()"
   ]
  },
  {
   "cell_type": "markdown",
   "id": "bda7d961-267f-42fc-a5d0-9f05deaf6979",
   "metadata": {},
   "source": [
    "#### Instantiate dask optimisations"
   ]
  },
  {
   "cell_type": "code",
   "execution_count": null,
   "id": "31156801-b631-424c-bf7d-9a9de86caf84",
   "metadata": {},
   "outputs": [],
   "source": [
    "d = {\n",
    "    'GPS': \n",
    "        [{'_id': 1, 'action': 'Long', 'units': 20, 'date': '2022-02-03', 'price': 14.57, 'simulatedFee': 0}\n",
    "        ,{'_id': 2, 'action': 'Short', 'units': 20, 'date': '2022-04-04', 'price': 14.21, 'simulatedFee': 0}\n",
    "        ,{'_id': 3, 'action': 'Long', 'units': 25, 'date': '2022-06-13', 'price': 9.03, 'simulatedFee': 0.2}],\n",
    "    'IAU': \n",
    "        [{'_id': 1, 'action': 'Long', 'units': 10, 'date': '2022-03-02', 'price': 36.61, 'simulatedFee': 0}\n",
    "        ,{'_id': 2, 'action': 'Short', 'units': 10, 'date': '2022-03-08', 'price': 38.98, 'simulatedFee': 0}\n",
    "        ,{'_id': 3, 'action': 'Long', 'units': 5, 'date': '2022-03-15', 'price': 36.45, 'simulatedFee': 0.1}\n",
    "        ,{'_id': 4, 'action': 'Long', 'units': 5, 'date': '2022-04-13', 'price': 37.62, 'simulatedFee': 0.23}],\n",
    "    'M': \n",
    "        [{'_id': 1, 'action': 'Long', 'units': 55, 'date': '2022-05-24', 'price': 17.61, 'simulatedFee': 0}],\n",
    "    'NFLX': \n",
    "        [{'_id': 1, 'action': 'Long', 'units': 2, 'date': '2022-01-19', 'price': 515.86, 'simulatedFee': 0}],\n",
    "    'STNG': \n",
    "        [{'_id': 1, 'action': 'Long', 'units': 50, 'date': '2022-04-24', 'price': 20.60, 'simulatedFee': 0.26}\n",
    "        ,{'_id': 2, 'action': 'Long', 'units': 20, 'date': '2022-05-13', 'price': 28.35, 'simulatedFee': 0.29}\n",
    "        ,{'_id': 3, 'action': 'Short', 'units': 45, 'date': '2022-05-24', 'price': 30.46, 'simulatedFee': 0.31}\n",
    "        ,{'_id': 4, 'action': 'Long', 'units': 20, 'date': '2022-06-02', 'price': 35.19, 'simulatedFee': 0.35}]\n",
    "}"
   ]
  },
  {
   "cell_type": "markdown",
   "id": "47f19c6d-ca24-4c19-a404-d0c01859813d",
   "metadata": {},
   "source": [
    "### Static Metric Analysis"
   ]
  },
  {
   "cell_type": "code",
   "execution_count": 7,
   "id": "4d6a7493-6130-4a0b-bf50-1506d17f52c7",
   "metadata": {},
   "outputs": [],
   "source": [
    "from api.gcp.connect_cloud import CloudUtility"
   ]
  },
  {
   "cell_type": "code",
   "execution_count": 9,
   "id": "0e6e0f49-1fb5-4474-a4f4-d1e2b0ad6bda",
   "metadata": {},
   "outputs": [
    {
     "data": {
      "text/plain": [
       "[]"
      ]
     },
     "execution_count": 9,
     "metadata": {},
     "output_type": "execute_result"
    }
   ],
   "source": [
    "CloudUtility.get_files_with_prefix_from_gcs(\"tickers/historical_ticks_5/\")"
   ]
  },
  {
   "cell_type": "code",
   "execution_count": null,
   "id": "946af2a9-1212-4358-9ed3-34962b4e9da5",
   "metadata": {},
   "outputs": [],
   "source": [
    "s = {\n",
    "    'GPS': \n",
    "        [{'_id': 1, 'action': 'Long', 'units': 20, 'date': '', 'price': 14.57, 'simulatedFee': 0}],\n",
    "    'IAU': \n",
    "        [{'_id': 1, 'action': 'Long', 'units': 10, 'date': '', 'price': 36.61, 'simulatedFee': 0}],\n",
    "    'M': \n",
    "        [{'_id': 1, 'action': 'Long', 'units': 55, 'date': '', 'price': 17.61, 'simulatedFee': 0}],\n",
    "    'NFLX': \n",
    "        [{'_id': 1, 'action': 'Long', 'units': 2, 'date': '', 'price': 515.86, 'simulatedFee': 0}],\n",
    "    'STNG': \n",
    "        [{'_id': 1, 'action': 'Long', 'units': 50, 'date': '', 'price': 20.60, 'simulatedFee': 0.26}]\n",
    "}"
   ]
  },
  {
   "cell_type": "code",
   "execution_count": 23,
   "id": "e065425f-9cf5-4ae8-bcbe-f687605f8af8",
   "metadata": {},
   "outputs": [],
   "source": [
    "data = {\n",
    "    'GPS': np.random.random(9600) * 10 + 50,\n",
    "    'NFLX': np.random.random(9600) * 10 + 200,\n",
    "    'M': np.random.random(9600) * 10 + 10,\n",
    "    'IAU': np.random.random(9600) * 10 + 15,\n",
    "    'STNG': np.random.random(9600) * 10 + 20,\n",
    "}"
   ]
  },
  {
   "cell_type": "code",
   "execution_count": 58,
   "id": "a7c413b7-f177-4f68-8a88-1697343c6680",
   "metadata": {},
   "outputs": [],
   "source": [
    "weights = np.array([0.2, 0.1, 0.2, 0.3, 0.2])\n",
    "ts_arr = np.array([*data.values()])\n",
    "\n",
    "pf_raw_value_ot = ts_arr.T.dot(weights)"
   ]
  },
  {
   "cell_type": "code",
   "execution_count": 68,
   "id": "7810b163-c45a-41bb-bc57-2d6a555ced3d",
   "metadata": {},
   "outputs": [],
   "source": [
    "test = pd.DataFrame(ts_arr.T, columns = ['a','b','c','d','e'])"
   ]
  },
  {
   "cell_type": "markdown",
   "id": "52dbfbd9-1b15-44cd-a7e0-f0bb33aa7fbc",
   "metadata": {},
   "source": [
    "### Dynamic Portfolio Metrics"
   ]
  },
  {
   "cell_type": "code",
   "execution_count": null,
   "id": "323fbce0-1524-41f1-b605-300e731c391b",
   "metadata": {},
   "outputs": [],
   "source": [
    "from typing import Iterable\n",
    "\n",
    "def days_open(date_series: Iterable) -> np.uint16:\n",
    "    return np.uint16((date_series.max() - date_series.min()).days)\n",
    "\n",
    "def turnover_rate(date_series: Iterable) -> np.float64:\n",
    "    date_series = np.fromiter(date_series, dtype='datetime64[D]')\n",
    "    days_traded = days_open(date_series)\n",
    "    return np.round(date_series.size / days_traded, 4)"
   ]
  }
 ],
 "metadata": {
  "kernelspec": {
   "display_name": "Kedro (audrii)",
   "language": "python",
   "name": "kedro_audrii"
  },
  "language_info": {
   "codemirror_mode": {
    "name": "ipython",
    "version": 3
   },
   "file_extension": ".py",
   "mimetype": "text/x-python",
   "name": "python",
   "nbconvert_exporter": "python",
   "pygments_lexer": "ipython3",
   "version": "3.7.3"
  }
 },
 "nbformat": 4,
 "nbformat_minor": 5
}

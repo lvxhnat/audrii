{
 "cells": [
  {
   "cell_type": "markdown",
   "id": "7d60e5f7-e7e0-460c-b85e-9e0440885deb",
   "metadata": {},
   "source": [
    "### Necessary Imports"
   ]
  },
  {
   "cell_type": "code",
   "execution_count": 45,
   "id": "794e7fbc-984e-4779-b93f-668e65aeb704",
   "metadata": {},
   "outputs": [],
   "source": [
    "import sys \n",
    "## https://stackoverflow.com/questions/12257747/permanently-adding-a-file-path-to-sys-path-in-python\n",
    "sys.path.append(\"/Users/lohyikuang/Downloads/personal_projects/the_heron_project/audrii/kedro-environment/env/kedro-environment/lib/python3.7/site-packages\")"
   ]
  },
  {
   "cell_type": "code",
   "execution_count": null,
   "id": "a1a04283-17fb-495c-a224-f8d64671bf59",
   "metadata": {},
   "outputs": [],
   "source": [
    "import pyfolio\n",
    "import pandas as pd\n",
    "from api.assets import get_ticker_historical_data"
   ]
  },
  {
   "cell_type": "markdown",
   "id": "f821f565-b1c3-448d-bf29-fa13c147e30f",
   "metadata": {},
   "source": [
    "### Simulate data"
   ]
  },
  {
   "cell_type": "code",
   "execution_count": null,
   "id": "fb2a0442-884f-4851-bea1-7b43991da395",
   "metadata": {},
   "outputs": [],
   "source": [
    "simulated_data = {\n",
    "    \"GPS\": [{\"_id\": \"1\", \"action\": \"Long\", \"units\": \"20\", \"date\": \"2022-02-03\", \"price\": \"14.57\", \"simulatedFee\": \"\"},\n",
    "            {\"_id\": \"2\", \"action\": \"Short\", \"units\": \"20\", \"date\": \"2022-04-04\", \"price\": \"14.21\", \"simulatedFee\": \"\"},\n",
    "            {\"_id\": \"3\", \"action\": \"Long\", \"units\": \"25\", \"date\": \"2022-06-13\", \"price\": \"9.03\", \"simulatedFee\": \"0.2\"}],\n",
    "    \"IAU\": [{\"_id\": \"1\", \"action\": \"Long\", \"units\": \"10\", \"date\": \"2022-03-02\", \"price\": \"36.61\", \"simulatedFee\": \"\"},\n",
    "            {\"_id\": \"2\", \"action\": \"Short\", \"units\": \"10\", \"date\": \"2022-03-08\", \"price\": \"38.98\", \"simulatedFee\": \"\"},\n",
    "            {\"_id\": \"3\", \"action\": \"Long\", \"units\": \"5\", \"date\": \"2022-03-15\", \"price\": \"36.45\", \"simulatedFee\": \"0.1\"},\n",
    "            {\"_id\": \"4\", \"action\": \"Long\", \"units\": \"5\", \"date\": \"2022-04-13\", \"price\": \"37.62\", \"simulatedFee\": \"0.23\"}],\n",
    "    \"M\": [{\"_id\": \"1\", \"action\": \"Long\", \"units\": \"55\", \"date\": \"2022-05-24\", \"price\": \"17.61\", \"simulatedFee\": \"\"}],\n",
    "    \"NFLX\": [{\"_id\": \"1\", \"action\": \"Long\", \"units\": \"2\", \"date\": \"2022-01-19\", \"price\": \"515.86\", \"simulatedFee\": \"\"}],\n",
    "    \"STNG\": [{\"_id\": \"1\", \"action\": \"Long\", \"units\": \"50\", \"date\": \"2022-04-24\", \"price\": \"20.60\", \"simulatedFee\": \"0.26\"},\n",
    "             {\"_id\": \"2\", \"action\": \"Long\", \"units\": \"20\", \"date\": \"2022-05-13\", \"price\": \"28.35\", \"simulatedFee\": \"0.29\"},\n",
    "             {\"_id\": \"3\", \"action\": \"Short\", \"units\": \"45\", \"date\": \"2022-05-24\", \"price\": \"30.46\", \"simulatedFee\": \"0.31\"},\n",
    "             {\"_id\": \"4\", \"action\": \"Long\", \"units\": \"20\", \"date\": \"2022-06-02\", \"price\": \"35.19\", \"simulatedFee\": \"0.35\"}]\n",
    "}"
   ]
  },
  {
   "cell_type": "code",
   "execution_count": null,
   "id": "984e9b61-0c5b-407d-8f36-c60188c8eb72",
   "metadata": {},
   "outputs": [],
   "source": [
    "df = get_ticker_historical_data(\"GPS\")"
   ]
  },
  {
   "cell_type": "markdown",
   "id": "8a70f989-e9e7-407b-9bd6-d01bedbf9874",
   "metadata": {},
   "source": [
    "### Get our universe of symbols"
   ]
  },
  {
   "cell_type": "code",
   "execution_count": null,
   "id": "613e8c90-0765-4e5b-beb2-fa565f40599e",
   "metadata": {},
   "outputs": [],
   "source": [
    "from api.mongodb import mongodb_client\n",
    "tickers = mongodb_client.get_all_items(\"ticker_symbols\")"
   ]
  },
  {
   "cell_type": "code",
   "execution_count": null,
   "id": "6f0e59c0-abb4-4034-a5ff-d0d98257a196",
   "metadata": {},
   "outputs": [],
   "source": [
    "tickers = pd.DataFrame(tickers)\n",
    "equity = tickers[tickers.quote_type == \"Equity\"]\n",
    "etfs = tickers[tickers.quote_type == \"ETF\"]"
   ]
  }
 ],
 "metadata": {
  "kernelspec": {
   "display_name": "Kedro (audrii)",
   "language": "python",
   "name": "kedro_audrii"
  },
  "language_info": {
   "codemirror_mode": {
    "name": "ipython",
    "version": 3
   },
   "file_extension": ".py",
   "mimetype": "text/x-python",
   "name": "python",
   "nbconvert_exporter": "python",
   "pygments_lexer": "ipython3",
   "version": "3.7.3"
  }
 },
 "nbformat": 4,
 "nbformat_minor": 5
}

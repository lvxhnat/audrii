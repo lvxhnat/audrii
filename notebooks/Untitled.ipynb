{
 "cells": [
  {
   "cell_type": "code",
   "execution_count": null,
   "id": "18864b18-7f3e-4545-b92a-390ee3a9198f",
   "metadata": {},
   "outputs": [],
   "source": [
    "catalog.load(\"raw_russell_indexes\")"
   ]
  },
  {
   "cell_type": "code",
   "execution_count": null,
   "id": "ec887077-eccc-4d09-9220-4a687fb70098",
   "metadata": {},
   "outputs": [],
   "source": []
  }
 ],
 "metadata": {
  "kernelspec": {
   "display_name": "Kedro (audrii)",
   "language": "python",
   "name": "kedro_audrii"
  },
  "language_info": {
   "codemirror_mode": {
    "name": "ipython",
    "version": 3
   },
   "file_extension": ".py",
   "mimetype": "text/x-python",
   "name": "python",
   "nbconvert_exporter": "python",
   "pygments_lexer": "ipython3",
   "version": "3.7.3"
  }
 },
 "nbformat": 4,
 "nbformat_minor": 5
}
